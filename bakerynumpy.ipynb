{
  "nbformat": 4,
  "nbformat_minor": 0,
  "metadata": {
    "colab": {
      "name": "bakerynumpy.ipynb",
      "provenance": [],
      "authorship_tag": "ABX9TyMPq6JAw4UquQ/fTeZJecWa",
      "include_colab_link": true
    },
    "kernelspec": {
      "name": "python3",
      "display_name": "Python 3"
    },
    "language_info": {
      "name": "python"
    }
  },
  "cells": [
    {
      "cell_type": "markdown",
      "metadata": {
        "id": "view-in-github",
        "colab_type": "text"
      },
      "source": [
        "<a href=\"https://colab.research.google.com/github/jossanger/Hello-World/blob/main/bakerynumpy.ipynb\" target=\"_parent\"><img src=\"https://colab.research.google.com/assets/colab-badge.svg\" alt=\"Open In Colab\"/></a>"
      ]
    },
    {
      "cell_type": "code",
      "execution_count": null,
      "metadata": {
        "colab": {
          "base_uri": "https://localhost:8080/"
        },
        "id": "8ioKTjyBwVtX",
        "outputId": "b57a9c18-0b38-41ac-ae98-0b0b55c6b470"
      },
      "outputs": [
        {
          "output_type": "execute_result",
          "data": {
            "text/plain": [
              "[2, 1, 10]"
            ]
          },
          "metadata": {},
          "execution_count": 1
        }
      ],
      "source": [
        "import numpy as np\n",
        "price= [2,1,10]\n",
        "(price)"
      ]
    },
    {
      "cell_type": "code",
      "source": [
        "quantity_sold = [17,40,10]\n",
        "quantity_sold"
      ],
      "metadata": {
        "colab": {
          "base_uri": "https://localhost:8080/"
        },
        "id": "afkxcl1Bwwcd",
        "outputId": "07eb06a7-96bd-498a-ff75-6eeebb3c8785"
      },
      "execution_count": null,
      "outputs": [
        {
          "output_type": "execute_result",
          "data": {
            "text/plain": [
              "[17, 40, 10]"
            ]
          },
          "metadata": {},
          "execution_count": 2
        }
      ]
    },
    {
      "cell_type": "code",
      "source": [
        "price_array=np.array (price)\n",
        "quantity_sold_array=np.array (quantity_sold)\n",
        "(price_array)\n",
        "(quantity_sold)"
      ],
      "metadata": {
        "colab": {
          "base_uri": "https://localhost:8080/"
        },
        "id": "nU4Hs6nlw-D9",
        "outputId": "ac342b8b-6c77-48b0-8a12-2fca5db30228"
      },
      "execution_count": null,
      "outputs": [
        {
          "output_type": "execute_result",
          "data": {
            "text/plain": [
              "[17, 40, 10]"
            ]
          },
          "metadata": {},
          "execution_count": 3
        }
      ]
    },
    {
      "cell_type": "code",
      "source": [
        "price_array * quantity_sold"
      ],
      "metadata": {
        "id": "YMJzzgRCxafz",
        "outputId": "a3f177f5-f8dd-47cb-d183-5189d33f893e",
        "colab": {
          "base_uri": "https://localhost:8080/"
        }
      },
      "execution_count": null,
      "outputs": [
        {
          "output_type": "execute_result",
          "data": {
            "text/plain": [
              "array([ 34,  40, 100])"
            ]
          },
          "metadata": {},
          "execution_count": 4
        }
      ]
    }
  ]
}