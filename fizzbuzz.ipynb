{
  "nbformat": 4,
  "nbformat_minor": 0,
  "metadata": {
    "colab": {
      "name": "fizzbuzz.ipynb",
      "provenance": [],
      "authorship_tag": "ABX9TyMJXxtZMBxBEDvsGDnLk7Lm",
      "include_colab_link": true
    },
    "kernelspec": {
      "name": "python3",
      "display_name": "Python 3"
    },
    "language_info": {
      "name": "python"
    }
  },
  "cells": [
    {
      "cell_type": "markdown",
      "metadata": {
        "id": "view-in-github",
        "colab_type": "text"
      },
      "source": [
        "<a href=\"https://colab.research.google.com/github/jossanger/Hello-World/blob/main/fizzbuzz.ipynb\" target=\"_parent\"><img src=\"https://colab.research.google.com/assets/colab-badge.svg\" alt=\"Open In Colab\"/></a>"
      ]
    },
    {
      "cell_type": "code",
      "execution_count": 10,
      "metadata": {
        "colab": {
          "base_uri": "https://localhost:8080/",
          "height": 131
        },
        "id": "iqhjAfPk014a",
        "outputId": "8e089d7e-1de7-400b-fb1d-85a696e617f0"
      },
      "outputs": [
        {
          "output_type": "error",
          "ename": "SyntaxError",
          "evalue": "ignored",
          "traceback": [
            "\u001b[0;36m  File \u001b[0;32m\"<ipython-input-10-7e2c2545bbbb>\"\u001b[0;36m, line \u001b[0;32m5\u001b[0m\n\u001b[0;31m    else:\u001b[0m\n\u001b[0m       ^\u001b[0m\n\u001b[0;31mSyntaxError\u001b[0m\u001b[0;31m:\u001b[0m invalid syntax\n"
          ]
        }
      ],
      "source": [
        "for i in range(1,21):\n",
        "  if not i % 3:\n",
        "    if not i % 5:\n",
        "      print ('Fizz Buzz')\n",
        "      else:\n",
        "        print('Fizz')\n",
        "        elif not i % 5:\n",
        "          print('Buzz')\n",
        "          else:\n",
        "            print(i)"
      ]
    }
  ]
}