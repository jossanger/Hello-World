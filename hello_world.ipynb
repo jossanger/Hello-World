{
  "nbformat": 4,
  "nbformat_minor": 0,
  "metadata": {
    "colab": {
      "name": "hello world.ipynb",
      "provenance": []
    },
    "kernelspec": {
      "name": "python3",
      "display_name": "Python 3"
    },
    "language_info": {
      "name": "python"
    }
  },
  "cells": [
    {
      "cell_type": "markdown",
      "source": [
        "Queddeng, April Joyce F."
      ],
      "metadata": {
        "id": "_hFnWwGo-pws"
      }
    },
    {
      "cell_type": "markdown",
      "source": [
        "Hello World"
      ],
      "metadata": {
        "id": "Vtw9wEdQ-tZd"
      }
    },
    {
      "cell_type": "code",
      "source": [
        "print('Hello World')"
      ],
      "metadata": {
        "colab": {
          "base_uri": "https://localhost:8080/"
        },
        "id": "8M_vnXoQ-3ao",
        "outputId": "e56a7c1c-ad50-4f54-995b-f16a5c0b8b39"
      },
      "execution_count": 1,
      "outputs": [
        {
          "output_type": "stream",
          "name": "stdout",
          "text": [
            "Hello World\n"
          ]
        }
      ]
    }
  ]
}